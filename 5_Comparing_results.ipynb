{
 "cells": [
  {
   "cell_type": "markdown",
   "id": "0d727c1e",
   "metadata": {},
   "source": [
    "## [CM 5] \n",
    "> -- KEVAL PRAJAPATI (20908584)"
   ]
  },
  {
   "cell_type": "markdown",
   "id": "56299cbd",
   "metadata": {},
   "source": [
    "## A) Iris Dataset"
   ]
  },
  {
   "cell_type": "markdown",
   "id": "f6c5a93e",
   "metadata": {},
   "source": [
    "#### Training the KNN classifier with k-fold cross validation \n",
    "\n",
    "\n",
    "__Observations__<br>\n",
    "- The accuracy of knn classifier is best for __k = 10__ and accuracy is __93.89%__\n",
    "-  Since the dataset is smaller __k-fold__ method will be more suitable because it gives the model more opportunity to train on train-test splits. However if data set is too big __K-fold__ causes problem because of number iterations it need to apply.\n"
   ]
  },
  {
   "cell_type": "code",
   "execution_count": 195,
   "id": "5d3d6b4d",
   "metadata": {},
   "outputs": [
    {
     "name": "stdout",
     "output_type": "stream",
     "text": [
      "\n",
      " Size of training set : Features =  (82, 4)  Labels =  (82,)\n",
      "\n",
      " Size of testing set : Features =  (21, 4)  Labels =  (21,)\n",
      "\n",
      " Size of validation set : Features =  (11, 4)  Labels =  (11,)\n",
      "\n",
      " Accuracy of Model on training dataset after 5 fold cross validation:(with K-fold)  91.39705882352942\n",
      "\n",
      " Accuracy of Model(with default value of k) on Validation dataset after training: (with k-fold) 100.0\n",
      "\n",
      " Accuracy for different values of k when testing on validation set with k-fold:\n",
      "\n",
      " Score for k =  1 is  91.39705882352942\n",
      "\n",
      " Score for k =  5 is  91.39705882352942\n",
      "\n",
      " Score for k =  10 is  93.89705882352942\n",
      "\n",
      " Score for k =  15 is  92.64705882352942\n",
      "\n",
      " Score for k =  20 is  90.07352941176471\n",
      "\n",
      " Score for k =  25 is  91.32352941176471\n",
      "\n",
      " Score for k =  30 is  88.82352941176471\n",
      "\n",
      " Score for k =  35 is  87.57352941176471\n",
      "\n",
      " Best accuracy:  93.89705882352942\n"
     ]
    },
    {
     "data": {
      "image/png": "[encoded data removed]",
      "text/plain": [
       "<Figure size 432x288 with 1 Axes>"
      ]
     },
     "metadata": {
      "needs_background": "light"
     },
     "output_type": "display_data"
    }
   ],
   "source": [
    "# AUTHOR : KEVAL PRAJAPATI\n",
    "# AIM : DATA CLASSIFICATION USING WITH K-FOLD CROSS VALIDATION AND TRAIN-VALIDATE-TEST \n",
    "\n",
    "# Iris dataset\n",
    "import pandas as pd\n",
    "import numpy as np\n",
    "from sklearn.neighbors import KNeighborsClassifier\n",
    "from matplotlib import pyplot as plt\n",
    "from sklearn.model_selection import cross_val_score\n",
    "from sklearn.model_selection import RepeatedKFold\n",
    "from sklearn.model_selection import train_test_split\n",
    "from sklearn.metrics import confusion_matrix, accuracy_score,explained_variance_score\n",
    "\n",
    "\n",
    "iris_df = pd.read_csv('D:\\COLLEGE\\Waterloo\\TERM 1\\ECE 657A\\Assignment 1\\dataset\\iris_dataset_missing_filled2.csv')\n",
    "\n",
    "\n",
    "X = iris_df.iloc[:,:-1].values  # features\n",
    "y = iris_df.iloc[:,4].values   # lables\n",
    "\n",
    "X_train, X_test, y_train, y_test = train_test_split(X,y,test_size = 0.2, random_state = 98) # Train - test split\n",
    "\n",
    "print(\"\\n Size of training set : Features = \", X_train.shape, \" Labels = \", y_train.shape)\n",
    "print(\"\\n Size of testing set : Features = \", X_test.shape, \" Labels = \", y_test.shape)\n",
    "print(\"\\n Size of validation set : Features = \", X_val.shape, \" Labels = \", y_val.shape)\n",
    "\n",
    "# Training kNN model on the training dataset with k-fold\n",
    "\n",
    "\n",
    "knn = KNeighborsClassifier()\n",
    "k5 = KFold(n_splits=5, shuffle=False)\n",
    "accuracy = []\n",
    "for train_index, test_index in k5.split(X_train, y_train):\n",
    "    X_train_f, X_test_f, y_train_f, y_test_f = X[train_index], X[test_index], y[train_index], y[test_index]\n",
    "    knn.fit(X_train_f, y_train_f)\n",
    "    y_pred = knn.predict(X_test_f)\n",
    "    accuracy.append(accuracy_score(y_test_f, y_pred)*100)\n",
    "\n",
    "print(\"\\n Accuracy of Model on training dataset after 5 fold cross validation:(with K-fold) \", np.mean(accuracy))\n",
    "\n",
    "# Testing on validation set\n",
    "\n",
    "y_pred_v = knn.predict(X_val)\n",
    "accuracy_v = accuracy_score(y_val, y_pred_v)*100\n",
    "print(\"\\n Accuracy of Model(with default value of k) on Validation dataset after training: (with k-fold)\", accuracy_v )\n",
    "\n",
    "# Comparing the model for the various values of k\n",
    "\n",
    "k = [1, 5, 10, 15, 20, 25, 30, 35]\n",
    "k_acc_sc = []\n",
    "accuracyi = []\n",
    "var = []\n",
    "k_var = []\n",
    "for i in k:\n",
    "    knn = KNeighborsClassifier(i)\n",
    "    k5 = KFold(n_splits=5, shuffle=False)\n",
    "    accuracy = []\n",
    "    for train_index, test_index in k5.split(X_train, y_train):\n",
    "        X_train_f, X_test_f, y_train_f, y_test_f = X[train_index], X[test_index], y[train_index], y[test_index]\n",
    "        knn.fit(X_train_f, y_train_f)\n",
    "        y_pred = knn.predict(X_test_f)\n",
    "        accuracy.append(accuracy_score(y_test_f, y_pred)*100)\n",
    "    k_acc_sc.append(np.mean(accuracy))\n",
    " \n",
    "\n",
    "print('\\n Accuracy for different values of k when testing on validation set with k-fold:')\n",
    "j=0;\n",
    "for i in k:\n",
    "    print(\"\\n Score for k = \",i,\"is \", k_acc_sc[j])\n",
    "    j=j+1\n",
    "\n",
    "plt.figure()\n",
    "plt.suptitle('Iris dataset: Accuracy vs Parameter k')\n",
    "plt.xlabel('k')\n",
    "plt.ylabel('accuracy')\n",
    "plt.plot(k, k_acc_sc, label = 'k-fold')\n",
    "plt.legend()\n",
    "\n",
    "print(\"\\n Best accuracy: \", max(k_acc_sc))"
   ]
  },
  {
   "cell_type": "markdown",
   "id": "4cf7a59f",
   "metadata": {},
   "source": [
    "## B) Heart Disease Dataset "
   ]
  },
  {
   "cell_type": "markdown",
   "id": "319a1757",
   "metadata": {},
   "source": [
    "#### Training the KNN classifier with train-validation-test split\n",
    "\n",
    "__Observations__\n",
    "- The accuracy of knn classifier is best for __k = 5__ and the accuracy is __81.25%__\n",
    "- "
   ]
  },
  {
   "cell_type": "code",
   "execution_count": 188,
   "id": "b14f641d",
   "metadata": {},
   "outputs": [
    {
     "name": "stdout",
     "output_type": "stream",
     "text": [
      "\n",
      " Size of training set : Features =  (156, 13)  Labels =  (156,)\n",
      "\n",
      " Size of testing set : Features =  (40, 13)  Labels =  (40,)\n",
      "\n",
      " Size of validation set : Features =  (16, 13)  Labels =  (16,)\n",
      "\n",
      " Accuracy for different values of k when testing on validation set without k-fold:\n",
      "\n",
      " Score for k =  1 is  81.25\n",
      "\n",
      " Score for k =  5 is  81.25\n",
      "\n",
      " Score for k =  10 is  68.75\n",
      "\n",
      " Score for k =  15 is  68.75\n",
      "\n",
      " Score for k =  20 is  75.0\n",
      "\n",
      " Score for k =  25 is  75.0\n",
      "\n",
      " Score for k =  30 is  75.0\n",
      "\n",
      " Score for k =  35 is  75.0\n",
      "Best accuracy:  81.25\n"
     ]
    },
    {
     "data": {
      "image/png": "[encoded data removed]",
      "text/plain": [
       "<Figure size 432x288 with 1 Axes>"
      ]
     },
     "metadata": {
      "needs_background": "light"
     },
     "output_type": "display_data"
    }
   ],
   "source": [
    "# Heart disease dataset\n",
    "import pandas as pd\n",
    "import numpy as np\n",
    "from sklearn.neighbors import KNeighborsClassifier\n",
    "from matplotlib import pyplot as plt\n",
    "from sklearn.model_selection import cross_val_score\n",
    "from sklearn.model_selection import train_test_split\n",
    "from sklearn.metrics import confusion_matrix, accuracy_score\n",
    "\n",
    "#Using min-max normalized dataset\n",
    "hd_df = pd.read_csv('D:\\COLLEGE\\Waterloo\\TERM 1\\ECE 657A\\Assignment 1\\dataset\\heart_disease_missing_filled_min_max_final.csv')\n",
    "\n",
    "\n",
    "# Splitting the data set into features and lables\n",
    "X = hd_df.iloc[:,:-1].values  # features\n",
    "y = hd_df.iloc[:,13].values   # lables\n",
    "\n",
    "X_train, X_test, y_train, y_test = train_test_split(X,y,test_size = 0.2, random_state = 98) # Train test split\n",
    "X_train_f, X_val, y_train_f, y_val = train_test_split(X_train, y_train, test_size=0.1, random_state=98) # Train validation split\n",
    "\n",
    "print(\"\\n Size of training set : Features = \", X_train.shape, \" Labels = \", y_train.shape)\n",
    "print(\"\\n Size of testing set : Features = \", X_test.shape, \" Labels = \", y_test.shape)\n",
    "print(\"\\n Size of validation set : Features = \", X_val.shape, \" Labels = \", y_val.shape)\n",
    "\n",
    "# Training the model without k-fold \n",
    "k_nk = [1, 5, 10, 15, 20, 25, 30, 35]\n",
    "accuracy_nk = []\n",
    "k_acc_sc_nk = []\n",
    "for i in k_nk:\n",
    "    knn_nk = KNeighborsClassifier(i)\n",
    "    knn_nk.fit(X_train_f,y_train_f)\n",
    "    y_pred_v_nk = knn_nk.predict(X_val)\n",
    "    k_acc_sc_nk.append(accuracy_score(y_val,y_pred_v_nk)*100)\n",
    "\n",
    "print('\\n Accuracy for different values of k when testing on validation set without k-fold:')\n",
    "j=0;\n",
    "for i in k_nk:\n",
    "    print(\"\\n Score for k = \",i,\"is \", k_acc_sc_nk[j])\n",
    "    j=j+1   \n",
    "\n",
    "\n",
    "plt.figure()\n",
    "plt.suptitle('Heart dataset: Accuracy vs Parameter k')\n",
    "plt.xlabel('k')\n",
    "plt.ylabel('accuracy')\n",
    "#plt.plot(k, k_acc_sc, label = 'k_fold')\n",
    "plt.plot(k, k_acc_sc_nk, label = 'Train-validate-test')\n",
    "plt.legend()\n",
    "\n",
    "print(\"Best accuracy: \", max(k_acc_sc_nk))\n"
   ]
  },
  {
   "cell_type": "code",
   "execution_count": null,
   "id": "35bb9594",
   "metadata": {},
   "outputs": [],
   "source": []
  }
 ],
 "metadata": {
  "kernelspec": {
   "display_name": "Python 3",
   "language": "python",
   "name": "python3"
  },
  "language_info": {
   "codemirror_mode": {
    "name": "ipython",
    "version": 3
   },
   "file_extension": ".py",
   "mimetype": "text/x-python",
   "name": "python",
   "nbconvert_exporter": "python",
   "pygments_lexer": "ipython3",
   "version": "3.8.8"
  }
 },
 "nbformat": 4,
 "nbformat_minor": 5
}
