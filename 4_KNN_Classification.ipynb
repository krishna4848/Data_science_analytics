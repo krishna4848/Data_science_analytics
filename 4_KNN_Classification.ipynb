{
 "cells": [
  {
   "cell_type": "markdown",
   "id": "5f54f6b4",
   "metadata": {},
   "source": [
    "## [CM 4] \n",
    ">  -- KEVAL PRAJAPTI (20908584)"
   ]
  },
  {
   "cell_type": "markdown",
   "id": "314d850e",
   "metadata": {},
   "source": [
    "## A) Iris Dataset"
   ]
  },
  {
   "cell_type": "markdown",
   "id": "a1c4c897",
   "metadata": {},
   "source": [
    "#### Training the KNN classifier with the default parameters\n",
    "\n",
    "__Observations__<br>\n",
    "- The accuracy of the model after training it on the  80 % of train dataset and testing it on remaining 20% of data is __90.476%__\n",
    "- Also the accuracy of the model on min max normalized is same because all the features of the iris dataset have same unit of measure and similar range."
   ]
  },
  {
   "cell_type": "code",
   "execution_count": 64,
   "id": "b726b30d",
   "metadata": {},
   "outputs": [
    {
     "name": "stdout",
     "output_type": "stream",
     "text": [
      "Iris-virginica     35\n",
      "Iris-versicolor    34\n",
      "Iris-setosa        32\n",
      "Name: species, dtype: int64\n",
      "\n",
      " Accuracy of the model on Iris Data set: 90.47619047619048\n",
      "\n",
      " Min Max normalized accuracy on Iris Data set:  90.47619047619048\n"
     ]
    }
   ],
   "source": [
    "# AUTHOR : KEVAL PRAJAPATI\n",
    "# AIM : DATA CLASSIFICATION USING KNN CLASSIFIER\n",
    "\n",
    "import pandas as pd\n",
    "import numpy as np\n",
    "from matplotlib import pyplot as plt\n",
    "from sklearn.neighbors import KNeighborsClassifier\n",
    "from sklearn.model_selection import train_test_split\n",
    "from sklearn.metrics import confusion_matrix, accuracy_score\n",
    "from sklearn.model_selection import cross_val_score\n",
    "from sklearn.preprocessing import LabelEncoder\n",
    "\n",
    "iris_df = pd.read_csv('D:\\COLLEGE\\Waterloo\\TERM 1\\ECE 657A\\Assignment 1\\dataset\\iris_dataset_missing_filled_final.csv')\n",
    "\n",
    "# Checking for class imbalance\n",
    "print(iris_df['species'].value_counts())\n",
    "\n",
    "# Splitting the data set into features and lables\n",
    "\n",
    "X = iris_df.iloc[:,:-1].values  # features\n",
    "y = iris_df.iloc[:,4].values   # lables\n",
    "\n",
    "# Splitting the data into train-test with ratio of 80% to 20%\n",
    "X_train, X_test, y_train, y_test = train_test_split(X,y,test_size = 0.2, random_state = 98)\n",
    "\n",
    "# Fiiting the model on the training data\n",
    "knn1 = KNeighborsClassifier()\n",
    "knn1.fit(X_train, y_train)\n",
    "\n",
    "# Testing the model by finding accuracy\n",
    "y_pred = knn1.predict(X_test)\n",
    "accuracy = accuracy_score(y_test, y_pred)*100\n",
    "print(\"\\n Accuracy of the model on Iris Data set:\",accuracy)\n",
    "\n",
    "# Checking the accuracy for min max normalized data\n",
    "iris_df_mn = pd.read_csv('D:\\COLLEGE\\Waterloo\\TERM 1\\ECE 657A\\Assignment 1\\dataset\\iris_min_max_final.csv')\n",
    "\n",
    "X1 = iris_df_mn.iloc[:,:-1].values  # features\n",
    "y1 = iris_df_mn.iloc[:,4].values   # lables\n",
    "\n",
    "\n",
    "X1_train, X1_test, y1_train, y1_test = train_test_split(X1,y1,test_size = 0.2, random_state = 98)\n",
    "\n",
    "knn2 = KNeighborsClassifier()\n",
    "knn2.fit(X1_train, y1_train)\n",
    "y_pred_mn = knn2.predict(X1_test)\n",
    "accuracy_mn = accuracy_score(y1_test, y_pred_mn)*100\n",
    "print(\"\\n Min Max normalized accuracy on Iris Data set: \",accuracy_mn)\n"
   ]
  },
  {
   "cell_type": "markdown",
   "id": "aa459f91",
   "metadata": {},
   "source": [
    "## B) Heart Disease Dataset"
   ]
  },
  {
   "cell_type": "markdown",
   "id": "9a74e486",
   "metadata": {},
   "source": [
    "#### Training the KNN classifier with the default parameters\n",
    "\n",
    "__Observations__<br>\n",
    "- The accuracy of the model after training it on the  80 % of train dataset and testing it on remaining 20% of data is __62.5%__\n",
    "- And the accuracy of the model on min max normalized is __85.0%__ because the data contains various numeric features like age, trestbps, chol, fbs, thalach, exang and oldpeak which has varying ranges and unit of measures due to this the distance based classifier like KNN tends to give some features greater weight over others. Hence the normalized data helps in avoiding dependence on measurement units thus producing better results."
   ]
  },
  {
   "cell_type": "code",
   "execution_count": 63,
   "id": "7860f422",
   "metadata": {},
   "outputs": [
    {
     "name": "stdout",
     "output_type": "stream",
     "text": [
      "\n",
      "Class Balance:\n",
      "\n",
      "1    110\n",
      "0     86\n",
      "Name: target, dtype: int64\n",
      "\n",
      "Accuracy on Heart Disease Dataset:  62.5\n",
      "\n",
      "Min Max normalized accuracy on Heart Disease Data set:  85.0\n"
     ]
    }
   ],
   "source": [
    "import pandas as pd\n",
    "import numpy as np\n",
    "from matplotlib import pyplot as plt\n",
    "from sklearn.neighbors import KNeighborsClassifier\n",
    "from sklearn.model_selection import train_test_split\n",
    "from sklearn.metrics import confusion_matrix, accuracy_score\n",
    "from sklearn.model_selection import cross_val_score\n",
    "from sklearn.preprocessing import LabelEncoder\n",
    "\n",
    "hd_df = pd.read_csv('D:\\COLLEGE\\Waterloo\\TERM 1\\ECE 657A\\Assignment 1\\dataset\\heart_disease_missing_filled_final.csv')\n",
    "\n",
    "# Checking for class imbalance\n",
    "print(\"\\nClass Balance:\\n\")\n",
    "print(hd_df['target'].value_counts())\n",
    "\n",
    "# Splitting the data set into features and lables\n",
    "\n",
    "X = hd_df.iloc[:,:-1].values  # features\n",
    "y = hd_df.iloc[:,13].values   # lables\n",
    "\n",
    "\n",
    "X_train, X_test, y_train, y_test = train_test_split(X,y,test_size = 0.2, random_state = 98)\n",
    "\n",
    "knn3 = KNeighborsClassifier()\n",
    "knn3.fit(X_train, y_train)\n",
    "y_pred = knn3.predict(X_test)\n",
    "accuracy = accuracy_score(y_test, y_pred)*100\n",
    "print(\"\\nAccuracy on Heart Disease Dataset: \",accuracy)\n",
    "\n",
    "# Checking the accuracy for min max normalized data\n",
    "hd_df_mn = pd.read_csv('D:\\COLLEGE\\Waterloo\\TERM 1\\ECE 657A\\Assignment 1\\dataset\\heart_disease_missing_filled_min_max_final.csv')\n",
    "\n",
    "X1 = hd_df_mn.iloc[:,:-1].values  # features\n",
    "y1 = hd_df_mn.iloc[:,13].values   # lables\n",
    "\n",
    "\n",
    "X1_train, X1_test, y1_train, y1_test = train_test_split(X1,y1,test_size = 0.2, random_state = 98)\n",
    "\n",
    "knn2 = KNeighborsClassifier()\n",
    "knn2.fit(X1_train, y1_train)\n",
    "y_pred_mn = knn2.predict(X1_test)\n",
    "accuracy_mn = accuracy_score(y1_test, y_pred_mn)*100\n",
    "print(\"\\nMin Max normalized accuracy on Heart Disease Data set: \",accuracy_mn)\n"
   ]
  }
 ],
 "metadata": {
  "kernelspec": {
   "display_name": "Python 3",
   "language": "python",
   "name": "python3"
  },
  "language_info": {
   "codemirror_mode": {
    "name": "ipython",
    "version": 3
   },
   "file_extension": ".py",
   "mimetype": "text/x-python",
   "name": "python",
   "nbconvert_exporter": "python",
   "pygments_lexer": "ipython3",
   "version": "3.8.8"
  }
 },
 "nbformat": 4,
 "nbformat_minor": 5
}
